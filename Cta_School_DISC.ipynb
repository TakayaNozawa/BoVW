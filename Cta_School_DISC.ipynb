{
 "nbformat": 4,
 "nbformat_minor": 2,
 "metadata": {
  "language_info": {
   "name": "python",
   "codemirror_mode": {
    "name": "ipython",
    "version": 3
   },
   "version": "3.6.9-final"
  },
  "orig_nbformat": 2,
  "file_extension": ".py",
  "mimetype": "text/x-python",
  "name": "python",
  "npconvert_exporter": "python",
  "pygments_lexer": "ipython3",
  "version": 3,
  "kernelspec": {
   "name": "python_defaultSpec_1600859494693",
   "display_name": "Python 3.6.9 64-bit"
  }
 },
 "cells": [
  {
   "cell_type": "code",
   "execution_count": 1,
   "metadata": {},
   "outputs": [],
   "source": [
    "import cv2\n",
    "import numpy as np\n",
    "import matplotlib.pyplot as plt\n",
    "from sklearn.cluster import KMeans\n",
    "from sklearn.feature_extraction.text import CountVectorizer as CV\n",
    "from sklearn.decomposition import LatentDirichletAllocation as LDA\n",
    "from sklearn.mixture import BayesianGaussianMixture as VBGMM"
   ]
  },
  {
   "cell_type": "code",
   "execution_count": 2,
   "metadata": {},
   "outputs": [],
   "source": [
    "surf = cv2.xfeatures2d.SURF_create()\n",
    "class_size = 70\n",
    "#cls = VBGMM(n_components=200)\n",
    "cls = KMeans(n_clusters=class_size)"
   ]
  },
  {
   "cell_type": "code",
   "execution_count": 3,
   "metadata": {},
   "outputs": [],
   "source": [
    "room_arr = []\n",
    "floor_arr = []\n",
    "outdoor_arr = []\n",
    "parking_arr= []"
   ]
  },
  {
   "cell_type": "code",
   "execution_count": 4,
   "metadata": {
    "tags": []
   },
   "outputs": [],
   "source": [
    "for i in range(140):\n",
    "    room = cv2.imread(\"room_\"+str(i)+\".jpg\")\n",
    "    Groom = cv2.imread(\"room_\"+str(i)+\".jpg\", 0)\n",
    "\n",
    "    room_kp, room_desc = surf.detectAndCompute(Groom, None)\n",
    "    room_descriptors = room_desc.astype(np.float32)\n",
    "\n",
    "    room_arr.extend(room_descriptors)\n",
    "#    print(\"complete \"+str(i))"
   ]
  },
  {
   "cell_type": "code",
   "execution_count": 5,
   "metadata": {
    "tags": []
   },
   "outputs": [],
   "source": [
    "for i in range(101):\n",
    "    floor = cv2.imread(\"floor_\"+str(i)+\".jpg\")\n",
    "    Gfloor = cv2.imread(\"floor_\"+str(i)+\".jpg\", 0)\n",
    "\n",
    "    floor_kp, floor_desc = surf.detectAndCompute(Gfloor, None)\n",
    "    floor_descriptors = floor_desc.astype(np.float32)\n",
    "\n",
    "    floor_arr.extend(floor_descriptors)\n",
    "#    print(\"complete \"+str(i))"
   ]
  },
  {
   "cell_type": "code",
   "execution_count": 6,
   "metadata": {
    "tags": []
   },
   "outputs": [],
   "source": [
    "for i in range(89):#89):\n",
    "    outdoor = cv2.imread(\"outdoor_\"+str(i)+\".jpg\")\n",
    "    Goutdoor = cv2.imread(\"outdoor_\"+str(i)+\".jpg\", 0)\n",
    "\n",
    "    outdoor_kp, outdoor_desc = surf.detectAndCompute(Goutdoor, None)\n",
    "    outdoor_descriptors = outdoor_desc.astype(np.float32)\n",
    " \n",
    "    outdoor_arr.extend(outdoor_descriptors)\n",
    "#    print(\"complete \"+str(i))"
   ]
  },
  {
   "cell_type": "code",
   "execution_count": 7,
   "metadata": {
    "tags": []
   },
   "outputs": [],
   "source": [
    "for i in range(62):\n",
    "    parking = cv2.imread(\"parking_\"+str(i)+\".jpg\")\n",
    "    Gparking = cv2.imread(\"parking_\"+str(i)+\".jpg\", 0)\n",
    "\n",
    "    parking_kp, parking_desc = surf.detectAndCompute(Gparking, None)\n",
    "    parking_descriptors = parking_desc.astype(np.float32)\n",
    "\n",
    "    parking_arr.extend(parking_descriptors)\n",
    "#    print(\"complete \"+str(i))"
   ]
  },
  {
   "cell_type": "code",
   "execution_count": 8,
   "metadata": {
    "tags": []
   },
   "outputs": [
    {
     "output_type": "stream",
     "name": "stdout",
     "text": "room 794830\nfloor 434848\noutdoor 1474120\nparking 1366670\n"
    }
   ],
   "source": [
    "print('room',len(room_arr))\n",
    "print('floor',len(floor_arr))\n",
    "print('outdoor',len(outdoor_arr))\n",
    "print('parking',len(parking_arr))"
   ]
  },
  {
   "cell_type": "code",
   "execution_count": 9,
   "metadata": {},
   "outputs": [
    {
     "output_type": "execute_result",
     "data": {
      "text/plain": "4070468"
     },
     "metadata": {},
     "execution_count": 9
    }
   ],
   "source": [
    "all_arr = []\n",
    "\n",
    "all_arr.extend(room_arr)\n",
    "all_arr.extend(floor_arr)\n",
    "all_arr.extend(outdoor_arr)\n",
    "all_arr.extend(parking_arr)\n",
    "\n",
    "len(all_arr)"
   ]
  },
  {
   "cell_type": "code",
   "execution_count": 10,
   "metadata": {
    "tags": []
   },
   "outputs": [
    {
     "output_type": "execute_result",
     "data": {
      "text/plain": "KMeans(algorithm='auto', copy_x=True, init='k-means++', max_iter=300,\n       n_clusters=70, n_init=10, n_jobs=None, precompute_distances='auto',\n       random_state=None, tol=0.0001, verbose=0)"
     },
     "metadata": {},
     "execution_count": 10
    }
   ],
   "source": [
    "cls.fit(all_arr)"
   ]
  },
  {
   "cell_type": "code",
   "execution_count": 11,
   "metadata": {},
   "outputs": [],
   "source": [
    "labels = cls.predict(all_arr)"
   ]
  },
  {
   "cell_type": "code",
   "execution_count": 14,
   "metadata": {
    "tags": []
   },
   "outputs": [
    {
     "output_type": "stream",
     "name": "stdout",
     "text": "hellow\n"
    }
   ],
   "source": [
    "print('hellow')"
   ]
  },
  {
   "cell_type": "markdown",
   "metadata": {},
   "source": [
    "plt.hist(labels, rwidth=0.8)"
   ]
  },
  {
   "cell_type": "markdown",
   "metadata": {
    "tags": []
   },
   "source": [
    "print(len(cls.labels_))\n",
    "print(cls.labels_)"
   ]
  },
  {
   "cell_type": "markdown",
   "metadata": {
    "tags": []
   },
   "source": [
    "each_arr = []\n",
    "\n",
    "room_label = cls.predict(room_arr)\n",
    "room_str =' '.join(map(str, room_label))\n",
    "each_arr.append(room_str)\n",
    "print('comlete room')\n",
    "\n",
    "floor_label = cls.predict(floor_arr)\n",
    "floor_str =' '.join(map(str, floor_label))\n",
    "each_arr.append(floor_str)\n",
    "print('complete floor')\n",
    "\n",
    "outdoor_label = cls.predict(outdoor_arr)\n",
    "outdoor_str =' '.join(map(str, outdoor_label))\n",
    "each_arr.append(outdoor_str)\n",
    "print('complete outdoor')\n",
    "\n",
    "parking_label = cls.predict(parking_arr)\n",
    "parking_str =' '.join(map(str, parking_label))\n",
    "each_arr.append(parking_str)\n",
    "print('complete parking')\n",
    "\n",
    "\n",
    "print(len(each_arr))"
   ]
  },
  {
   "cell_type": "markdown",
   "metadata": {},
   "source": [
    "-----------------------------------------------------------------------------"
   ]
  },
  {
   "cell_type": "code",
   "execution_count": 15,
   "metadata": {},
   "outputs": [],
   "source": [
    "data = labels#cls.labels_"
   ]
  },
  {
   "cell_type": "code",
   "execution_count": null,
   "metadata": {
    "tags": []
   },
   "outputs": [],
   "source": [
    "print(type(data))\n",
    "print(len(data))"
   ]
  },
  {
   "cell_type": "code",
   "execution_count": 16,
   "metadata": {
    "tags": []
   },
   "outputs": [
    {
     "output_type": "stream",
     "name": "stdout",
     "text": "11568578\n4070468\n"
    }
   ],
   "source": [
    "data\n",
    "data_str_trans =' '.join(map(str, data))\n",
    "print(len(data_str_trans))\n",
    "print(len(data))"
   ]
  },
  {
   "cell_type": "markdown",
   "metadata": {},
   "source": [
    "print(len(each_arr[0]))"
   ]
  },
  {
   "cell_type": "markdown",
   "metadata": {},
   "source": [
    "each_str =' '.join(map(str, each_arr[0]))\n",
    "#print(each_arr[0])\n",
    "#print(each_str)"
   ]
  },
  {
   "cell_type": "markdown",
   "metadata": {
    "tags": []
   },
   "source": [
    "each_str_trans=[]\n",
    "for i in range(4):\n",
    "    each_str =' '.join(map(str, each_arr[i]))\n",
    "    each_str_trans.append(each_str)\n",
    "print(len(data_str_trans))\n",
    "print(len(data))"
   ]
  },
  {
   "cell_type": "markdown",
   "metadata": {
    "tags": []
   },
   "source": [
    "data_trans = str(data)\n",
    "print(len(data))\n",
    "print(len(data_trans))\n",
    "data_trans"
   ]
  },
  {
   "cell_type": "code",
   "execution_count": 17,
   "metadata": {
    "tags": []
   },
   "outputs": [
    {
     "output_type": "stream",
     "name": "stdout",
     "text": "CountVectorizer(analyzer='word', binary=False, decode_error='strict',\n                dtype=<class 'numpy.int64'>, encoding='utf-8', input='content',\n                lowercase=True, max_df=1.0, max_features=None, min_df=1,\n                ngram_range=(1, 1), preprocessor=None, stop_words=None,\n                strip_accents=None, token_pattern='\\\\b\\\\w+\\\\b', tokenizer=None,\n                vocabulary=None)\n"
    }
   ],
   "source": [
    "cv = CV(token_pattern='\\\\b\\\\w+\\\\b')\n",
    "cved = cv.fit([data_str_trans])\n",
    "cved_transfrom = cved.transform([data_str_trans])\n",
    "print(cv)"
   ]
  },
  {
   "cell_type": "code",
   "execution_count": 18,
   "metadata": {
    "tags": []
   },
   "outputs": [
    {
     "output_type": "execute_result",
     "data": {
      "text/plain": "['0',\n '1',\n '10',\n '11',\n '12',\n '13',\n '14',\n '15',\n '16',\n '17',\n '18',\n '19',\n '2',\n '20',\n '21',\n '22',\n '23',\n '24',\n '25',\n '26',\n '27',\n '28',\n '29',\n '3',\n '30',\n '31',\n '32',\n '33',\n '34',\n '35',\n '36',\n '37',\n '38',\n '39',\n '4',\n '40',\n '41',\n '42',\n '43',\n '44',\n '45',\n '46',\n '47',\n '48',\n '49',\n '5',\n '50',\n '51',\n '52',\n '53',\n '54',\n '55',\n '56',\n '57',\n '58',\n '59',\n '6',\n '60',\n '61',\n '62',\n '63',\n '64',\n '65',\n '66',\n '67',\n '68',\n '69',\n '7',\n '8',\n '9']"
     },
     "metadata": {},
     "execution_count": 18
    }
   ],
   "source": [
    "cv.get_feature_names()"
   ]
  },
  {
   "cell_type": "code",
   "execution_count": 19,
   "metadata": {},
   "outputs": [],
   "source": [
    "lda = LDA(n_components=4,learning_method='online', max_iter=20)\n",
    "lda = lda.fit(cved_transfrom)"
   ]
  },
  {
   "cell_type": "code",
   "execution_count": 20,
   "metadata": {
    "tags": []
   },
   "outputs": [
    {
     "output_type": "stream",
     "name": "stdout",
     "text": "topic 0\n66,10,0,40,45,48,6,5,7,15,16,36,9,14,3,63,34,30 \n\ntopic 1\n10,66,36,45,44,24,35,4,26,9,14,48,6,16,28,12,40,18 \n\ntopic 2\n66,10,48,40,7,37,26,36,14,16,49,4,5,38,32,17,6,61 \n\ntopic 3\n10,66,18,3,14,0,36,4,40,31,49,26,45,24,60,48,21,34 \n\n"
    }
   ],
   "source": [
    "features = cv.get_feature_names()\n",
    "\n",
    "for topic in range(4):\n",
    "    print(\"topic\", topic)\n",
    "    number_of_topic = lda.components_[topic] \n",
    "    word = ','.join(features[i] for i in number_of_topic.argsort()[:-18-1:-1])\n",
    "    print(word, \"\\n\")"
   ]
  },
  {
   "cell_type": "code",
   "execution_count": null,
   "metadata": {},
   "outputs": [],
   "source": []
  },
  {
   "cell_type": "markdown",
   "metadata": {},
   "source": [
    "cv = CV(token_pattern='\\\\b\\\\w+\\\\b')\n",
    "cved = cv.fit(['each_str_trans'])\n",
    "cved_transfrom = cved.transform(['each_str_trans'])\n",
    "print(cv)"
   ]
  },
  {
   "cell_type": "code",
   "execution_count": null,
   "metadata": {},
   "outputs": [],
   "source": []
  },
  {
   "cell_type": "code",
   "execution_count": null,
   "metadata": {},
   "outputs": [],
   "source": []
  },
  {
   "cell_type": "code",
   "execution_count": null,
   "metadata": {},
   "outputs": [],
   "source": []
  },
  {
   "cell_type": "markdown",
   "metadata": {},
   "source": [
    "----------------------------------------------------------------"
   ]
  },
  {
   "cell_type": "code",
   "execution_count": 39,
   "metadata": {},
   "outputs": [],
   "source": [
    "test_data = []"
   ]
  },
  {
   "cell_type": "code",
   "execution_count": 40,
   "metadata": {},
   "outputs": [],
   "source": [
    "room_1 = cv2.imread(\"test__flip_0.jpg\")\n",
    "Groom_1 = cv2.imread(\"test_flip_0.jpg\", 0)\n",
    "\n",
    "room_2 = cv2.imread(\"test_flip_1.jpg\")\n",
    "Groom_2 = cv2.imread(\"test_flip_1.jpg\", 0)\n",
    "\n",
    "room_3 = cv2.imread(\"test_flip_2.jpg\")\n",
    "Groom_3 = cv2.imread(\"test_flip_2.jpg\", 0)\n",
    "\n",
    "test_room_kp, test_room_desc = surf.detectAndCompute(Groom_1, None)\n",
    "test_room_descriptors = test_room_desc.astype(np.float32)\n",
    "\n",
    "test_room_label = cls.predict(test_room_descriptors)\n",
    "test_data.append(test_room_label)\n",
    "\n",
    "test_room_kp, test_room_desc = surf.detectAndCompute(Groom_2, None)\n",
    "test_room_descriptors = test_room_desc.astype(np.float32)\n",
    "\n",
    "test_room_label2 = cls.predict(test_room_descriptors)\n",
    "test_data.append(test_room_label2)\n",
    "\n",
    "test_room_kp, test_room_desc = surf.detectAndCompute(Groom_3, None)\n",
    "test_room_descriptors = test_room_desc.astype(np.float32)\n",
    "\n",
    "test_room_label3 = cls.predict(test_room_descriptors)\n",
    "test_data.append(test_room_label3)"
   ]
  },
  {
   "cell_type": "code",
   "execution_count": 41,
   "metadata": {},
   "outputs": [],
   "source": [
    "floor_1 = cv2.imread(\"test_flip_3.jpg\")\n",
    "Gfloor_1 = cv2.imread(\"test_flip_3.jpg\", 0)\n",
    "\n",
    "floor_2 = cv2.imread(\"test_flip_4.jpg\")\n",
    "Gfloor_2 = cv2.imread(\"test_flip_4.jpg\", 0)\n",
    "\n",
    "floor_3 = cv2.imread(\"test_flip_5.jpg\")\n",
    "Gfloor_3 = cv2.imread(\"test_flip_5.jpg\", 0)\n",
    "\n",
    "test_floor_kp, test_floor_desc = surf.detectAndCompute(Gfloor_1, None)\n",
    "test_floor_descriptors = test_floor_desc.astype(np.float32)\n",
    "\n",
    "test_floor_label = cls.predict(test_floor_descriptors)\n",
    "test_data.append(test_floor_label)\n",
    "\n",
    "test_floor_kp, test_floor_desc = surf.detectAndCompute(Gfloor_2, None)\n",
    "test_floor_descriptors = test_floor_desc.astype(np.float32)\n",
    "\n",
    "test_floor_label2 = cls.predict(test_floor_descriptors)\n",
    "test_data.append(test_floor_label2)\n",
    "\n",
    "test_floor_kp, test_floor_desc = surf.detectAndCompute(Gfloor_3, None)\n",
    "test_floor_descriptors = test_floor_desc.astype(np.float32)\n",
    "\n",
    "test_floor_label3 = cls.predict(test_floor_descriptors)\n",
    "test_data.append(test_floor_label3)"
   ]
  },
  {
   "cell_type": "code",
   "execution_count": 42,
   "metadata": {},
   "outputs": [],
   "source": [
    "outdoor_1 = cv2.imread(\"test_flip_6.jpg\")\n",
    "Goutdoor_1 = cv2.imread(\"test_flip_6.jpg\", 0)\n",
    "\n",
    "outdoor_2 = cv2.imread(\"test_flip_7.jpg\")\n",
    "Goutdoor_2 = cv2.imread(\"test_flip_7.jpg\", 0)\n",
    "\n",
    "outdoor_3 = cv2.imread(\"test_flip_8.jpg\")\n",
    "Goutdoor_3 = cv2.imread(\"test_flip_8.jpg\", 0)\n",
    "\n",
    "test_outdoor_kp, test_outdoor_desc = surf.detectAndCompute(Goutdoor_1, None)\n",
    "test_outdoor_descriptors = test_outdoor_desc.astype(np.float32)\n",
    "\n",
    "test_outdoor_label = cls.predict(test_outdoor_descriptors)\n",
    "test_data.append(test_outdoor_label)\n",
    "\n",
    "test_outdoor_kp, test_outdoor_desc = surf.detectAndCompute(Goutdoor_2, None)\n",
    "test_outdoor_descriptors = test_outdoor_desc.astype(np.float32)\n",
    "\n",
    "test_outdoor_label2 = cls.predict(test_outdoor_descriptors)\n",
    "test_data.append(test_outdoor_label2)\n",
    "\n",
    "test_outdoor_kp, test_outdoor_desc = surf.detectAndCompute(Goutdoor_3, None)\n",
    "test_outdoor_descriptors = test_outdoor_desc.astype(np.float32)\n",
    "\n",
    "test_outdoor_label3 = cls.predict(test_outdoor_descriptors)\n",
    "test_data.append(test_outdoor_label3)"
   ]
  },
  {
   "cell_type": "code",
   "execution_count": 43,
   "metadata": {},
   "outputs": [],
   "source": [
    "parking_1 = cv2.imread(\"test_flip_9.jpg\")\n",
    "Gparking_1 = cv2.imread(\"test_flip_9.jpg\", 0)\n",
    "\n",
    "parking_2 = cv2.imread(\"test_flip_10.jpg\")\n",
    "Gparking_2 = cv2.imread(\"test_flip_10.jpg\", 0)\n",
    "\n",
    "parking_3 = cv2.imread(\"test_flip_11.jpg\")\n",
    "Gparking_3 = cv2.imread(\"test_flip_11.jpg\", 0)\n",
    "\n",
    "test_parking_kp, test_parking_desc = surf.detectAndCompute(Gparking_1, None)\n",
    "test_parking_descriptors = test_parking_desc.astype(np.float32)\n",
    "\n",
    "test_parking_label = cls.predict(test_parking_descriptors)\n",
    "test_data.append(test_parking_label)\n",
    "\n",
    "test_parking_kp, test_parking_desc = surf.detectAndCompute(Gparking_1, None)\n",
    "test_parking_descriptors = test_parking_desc.astype(np.float32)\n",
    "\n",
    "test_parking_label2 = cls.predict(test_parking_descriptors)\n",
    "test_data.append(test_parking_label2)\n",
    "\n",
    "test_parking_kp, test_parking_desc = surf.detectAndCompute(Gparking_2, None)\n",
    "test_parking_descriptors = test_parking_desc.astype(np.float32)\n",
    "\n",
    "test_parking_label3 = cls.predict(test_parking_descriptors)\n",
    "test_data.append(test_parking_label3)"
   ]
  },
  {
   "cell_type": "code",
   "execution_count": 44,
   "metadata": {
    "tags": []
   },
   "outputs": [
    {
     "output_type": "stream",
     "name": "stdout",
     "text": "12\n12777\n"
    }
   ],
   "source": [
    "test_data\n",
    "test_data_trans=[]\n",
    "for i in range(12):\n",
    "    transed =' '.join(map(str, test_data[i]))\n",
    "    test_data_trans.append(transed)\n",
    "\n",
    "print(len(test_data_trans))\n",
    "print(len(test_data_trans[1]))"
   ]
  },
  {
   "cell_type": "markdown",
   "metadata": {},
   "source": [
    "-----------------------"
   ]
  },
  {
   "cell_type": "code",
   "execution_count": 100,
   "metadata": {},
   "outputs": [],
   "source": [
    "cv_ed = cv.fit(test_data_trans)\n",
    "test_transfrom = cved.transform(test_data_trans)"
   ]
  },
  {
   "cell_type": "code",
   "execution_count": 113,
   "metadata": {},
   "outputs": [],
   "source": [
    "#推定リセット用ショートカット\n",
    "lda = LDA(n_components=4,learning_method='batch', max_iter=100)\n",
    "lda = lda.fit(cved_transfrom)"
   ]
  },
  {
   "cell_type": "code",
   "execution_count": 114,
   "metadata": {},
   "outputs": [],
   "source": [
    "lda_test1 = lda.transform(test_transfrom)"
   ]
  },
  {
   "cell_type": "code",
   "execution_count": 115,
   "metadata": {
    "tags": []
   },
   "outputs": [
    {
     "output_type": "stream",
     "name": "stdout",
     "text": "###  0\n\nScore\n [0.00863118 0.49797128 0.06898385 0.42441369]\n >>> topic [1]\n\n###  1\n\nScore\n [0.02077921 0.54081099 0.2800571  0.15835269]\n >>> topic [1]\n\n###  2\n\nScore\n [0.02412256 0.10021171 0.43709263 0.4385731 ]\n >>> topic [3]\n\n###  3\n\nScore\n [0.0023291  0.21405094 0.13731869 0.64630126]\n >>> topic [3]\n\n###  4\n\nScore\n [0.01128391 0.09302951 0.41281316 0.48287342]\n >>> topic [3]\n\n###  5\n\nScore\n [0.00064267 0.37198316 0.04448859 0.58288558]\n >>> topic [3]\n\n###  6\n\nScore\n [0.38127501 0.22364306 0.31997802 0.0751039 ]\n >>> topic [0]\n\n###  7\n\nScore\n [0.54127601 0.19381276 0.23401475 0.03089648]\n >>> topic [0]\n\n###  8\n\nScore\n [0.07539751 0.28337382 0.39318715 0.24804152]\n >>> topic [2]\n\n###  9\n\nScore\n [0.56640728 0.0708677  0.31342243 0.04930259]\n >>> topic [0]\n\n###  10\n\nScore\n [0.56640728 0.0708677  0.31342243 0.04930259]\n >>> topic [0]\n\n###  11\n\nScore\n [0.46289506 0.07162305 0.42898151 0.03650038]\n >>> topic [0]\n\n"
    }
   ],
   "source": [
    "for i,lda in enumerate(lda_test1):\n",
    "    print(\"### \",i)\n",
    "    topicid=[i for i, x in enumerate(lda) if x == max(lda)]\n",
    "    #print(test_data_trans[i])\n",
    "    print(\"\\nScore\\n\", lda)\n",
    "    print(\" >>> topic\",topicid)\n",
    "    print(\"\")"
   ]
  },
  {
   "cell_type": "code",
   "execution_count": 54,
   "metadata": {
    "tags": []
   },
   "outputs": [
    {
     "output_type": "stream",
     "name": "stdout",
     "text": "topic 0\n141,153,120,112,28,181,100,69,98,41,67,195,142,115,105,53,76,184 \n\ntopic 1\n141,120,153,115,181,105,184,112,168,98,41,28,62,67,164,92,100,185 \n\ntopic 2\n120,141,112,181,23,153,62,184,105,115,142,100,172,177,103,28,98,76 \n\ntopic 3\n141,120,181,115,112,28,153,100,168,23,103,76,92,184,105,62,44,41 \n\n"
    }
   ],
   "source": [
    "features = cv.get_feature_names()\n",
    "\n",
    "for topic in range(4):\n",
    "    print(\"topic\", topic)\n",
    "    number_of_topic = lda.components_[topic] \n",
    "    word = ','.join(features[i] for i in number_of_topic.argsort()[:-18-1:-1])\n",
    "    print(word, \"\\n\")"
   ]
  },
  {
   "cell_type": "code",
   "execution_count": null,
   "metadata": {},
   "outputs": [],
   "source": []
  }
 ]
}